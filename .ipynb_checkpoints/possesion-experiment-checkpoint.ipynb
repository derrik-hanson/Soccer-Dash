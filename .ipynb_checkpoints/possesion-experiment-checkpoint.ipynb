{
 "cells": [
  {
   "cell_type": "code",
   "execution_count": 2,
   "id": "82071537",
   "metadata": {},
   "outputs": [],
   "source": [
    "import pandas as pd\n",
    "import numpy as np\n",
    "\n",
    "from statsbombpy import sb\n",
    "import plotly.express as px\n",
    "import plotly.graph_objects as go\n",
    "import plotly.figure_factory as ff\n",
    "\n",
    "import sbutilities as sbut\n",
    "import soccerplotly as socly\n",
    "\n",
    "import ipywidgets as widgets\n",
    "from ipywidgets import interact, interactive, fixed, interact_manual"
   ]
  },
  {
   "cell_type": "code",
   "execution_count": 36,
   "id": "617a50a5",
   "metadata": {},
   "outputs": [
    {
     "name": "stdout",
     "output_type": "stream",
     "text": [
      "credentials were not supplied. open data access only\n"
     ]
    }
   ],
   "source": [
    "df_events = sb.events(match_id=3795506, split=False, flatten_attrs=False)"
   ]
  },
  {
   "cell_type": "code",
   "execution_count": 37,
   "id": "a2f8d332",
   "metadata": {},
   "outputs": [],
   "source": [
    "sample_possession = df_events[df_events['possession']==202]"
   ]
  },
  {
   "cell_type": "code",
   "execution_count": 38,
   "id": "70d4c638",
   "metadata": {},
   "outputs": [],
   "source": [
    "pos_locations = sample_possession['location']"
   ]
  },
  {
   "cell_type": "code",
   "execution_count": 39,
   "id": "f729ae30",
   "metadata": {},
   "outputs": [
    {
     "data": {
      "text/plain": [
       "Index(['ball_receipt', 'ball_recovery', 'carry', 'clearance', 'counterpress',\n",
       "       'dribble', 'duel', 'duration', 'foul_committed', 'foul_won',\n",
       "       'goalkeeper', 'id', 'index', 'injury_stoppage', 'interception',\n",
       "       'location', 'match_id', 'minute', 'miscontrol', 'off_camera', 'out',\n",
       "       'pass', 'period', 'play_pattern', 'player', 'position', 'possession',\n",
       "       'possession_team', 'related_events', 'second', 'shot', 'substitution',\n",
       "       'tactics', 'team', 'timestamp', 'type', 'under_pressure'],\n",
       "      dtype='object')"
      ]
     },
     "execution_count": 39,
     "metadata": {},
     "output_type": "execute_result"
    }
   ],
   "source": [
    "sample_possession.columns"
   ]
  },
  {
   "cell_type": "code",
   "execution_count": 77,
   "id": "3b7ee9a9",
   "metadata": {},
   "outputs": [
    {
     "data": {
      "text/plain": [
       "array([list([10.3, 46.3]), list([24.4, 41.7]), list([24.1, 31.5]),\n",
       "       list([31.2, 50.1]), list([34.3, 76.9]), list([63.2, 52.1]),\n",
       "       list([62.7, 32.8]), list([69.5, 10.6]), list([62.7, 28.6]),\n",
       "       list([57.5, 48.3]), list([64.7, 30.9]), list([68.0, 8.9]),\n",
       "       list([75.5, 7.2]), list([64.4, 4.9]), list([58.1, 43.5]),\n",
       "       list([65.0, 65.8]), list([65.8, 33.7]), list([89.8, 10.9]),\n",
       "       list([110.9, 24.9]), list([24.1, 45.8]), list([24.1, 31.5]),\n",
       "       list([23.8, 43.2]), list([34.3, 76.9]), list([64.1, 53.1]),\n",
       "       list([74.6, 40.0]), list([68.6, 7.4]), list([60.1, 23.7]),\n",
       "       list([57.5, 48.3]), list([60.7, 36.0]), list([68.0, 8.9]),\n",
       "       list([77.8, 3.4]), list([64.4, 4.9]), list([54.0, 28.3]),\n",
       "       list([63.0, 63.8]), list([62.1, 39.1]), list([87.6, 4.6]),\n",
       "       list([110.1, 27.5]), list([110.9, 36.8]), list([7.4, 48.6]),\n",
       "       list([24.1, 31.5]), list([23.8, 43.2]), list([34.3, 76.9]),\n",
       "       list([64.1, 53.1]), list([68.9, 36.8]), list([68.6, 7.4]),\n",
       "       list([60.1, 23.7]), list([57.5, 48.3]), list([60.7, 36.0]),\n",
       "       list([68.0, 8.9]), list([77.8, 3.4]), list([54.0, 28.3]),\n",
       "       list([63.0, 63.8]), list([62.1, 39.1]), list([87.6, 4.6]),\n",
       "       list([110.1, 27.5]), list([56.0, 24.7]), list([49.8, 39.8]),\n",
       "       list([40.0, 73.5]), list([54.6, 28.9]), list([9.2, 51.8]),\n",
       "       list([7.4, 48.6]), list([68.9, 36.8]), nan], dtype=object)"
      ]
     },
     "execution_count": 77,
     "metadata": {},
     "output_type": "execute_result"
    }
   ],
   "source": [
    "poss_pre_plot = sample_possession[['type', 'location','player', 'team']]\n",
    "poss_pre_plot['location'].values"
   ]
  },
  {
   "cell_type": "code",
   "execution_count": null,
   "id": "9331b5fb",
   "metadata": {},
   "outputs": [],
   "source": []
  },
  {
   "cell_type": "code",
   "execution_count": 75,
   "id": "c00d1dc1",
   "metadata": {},
   "outputs": [
    {
     "data": {
      "text/html": [
       "<div>\n",
       "<style scoped>\n",
       "    .dataframe tbody tr th:only-of-type {\n",
       "        vertical-align: middle;\n",
       "    }\n",
       "\n",
       "    .dataframe tbody tr th {\n",
       "        vertical-align: top;\n",
       "    }\n",
       "\n",
       "    .dataframe thead th {\n",
       "        text-align: right;\n",
       "    }\n",
       "</style>\n",
       "<table border=\"1\" class=\"dataframe\">\n",
       "  <thead>\n",
       "    <tr style=\"text-align: right;\">\n",
       "      <th></th>\n",
       "      <th>type</th>\n",
       "      <th>location</th>\n",
       "      <th>player</th>\n",
       "    </tr>\n",
       "  </thead>\n",
       "  <tbody>\n",
       "    <tr>\n",
       "      <th>1288</th>\n",
       "      <td>Pass</td>\n",
       "      <td>[10.3, 46.3]</td>\n",
       "      <td>Gianluigi Donnarumma</td>\n",
       "    </tr>\n",
       "    <tr>\n",
       "      <th>1289</th>\n",
       "      <td>Pass</td>\n",
       "      <td>[24.4, 41.7]</td>\n",
       "      <td>Leonardo Bonucci</td>\n",
       "    </tr>\n",
       "    <tr>\n",
       "      <th>1290</th>\n",
       "      <td>Pass</td>\n",
       "      <td>[24.1, 31.5]</td>\n",
       "      <td>Giorgio Chiellini</td>\n",
       "    </tr>\n",
       "    <tr>\n",
       "      <th>1291</th>\n",
       "      <td>Pass</td>\n",
       "      <td>[31.2, 50.1]</td>\n",
       "      <td>Leonardo Bonucci</td>\n",
       "    </tr>\n",
       "    <tr>\n",
       "      <th>1292</th>\n",
       "      <td>Pass</td>\n",
       "      <td>[34.3, 76.9]</td>\n",
       "      <td>Giovanni Di Lorenzo</td>\n",
       "    </tr>\n",
       "    <tr>\n",
       "      <th>...</th>\n",
       "      <td>...</td>\n",
       "      <td>...</td>\n",
       "      <td>...</td>\n",
       "    </tr>\n",
       "    <tr>\n",
       "      <th>4140</th>\n",
       "      <td>Pressure</td>\n",
       "      <td>[40.0, 73.5]</td>\n",
       "      <td>Kyle Walker</td>\n",
       "    </tr>\n",
       "    <tr>\n",
       "      <th>4278</th>\n",
       "      <td>Block</td>\n",
       "      <td>[54.6, 28.9]</td>\n",
       "      <td>Luke Shaw</td>\n",
       "    </tr>\n",
       "    <tr>\n",
       "      <th>4279</th>\n",
       "      <td>Block</td>\n",
       "      <td>[9.2, 51.8]</td>\n",
       "      <td>John Stones</td>\n",
       "    </tr>\n",
       "    <tr>\n",
       "      <th>4421</th>\n",
       "      <td>Goal Keeper</td>\n",
       "      <td>[7.4, 48.6]</td>\n",
       "      <td>Gianluigi Donnarumma</td>\n",
       "    </tr>\n",
       "    <tr>\n",
       "      <th>4618</th>\n",
       "      <td>Ball Recovery</td>\n",
       "      <td>[68.9, 36.8]</td>\n",
       "      <td>Federico Bernardeschi</td>\n",
       "    </tr>\n",
       "  </tbody>\n",
       "</table>\n",
       "<p>62 rows × 3 columns</p>\n",
       "</div>"
      ],
      "text/plain": [
       "               type      location                 player\n",
       "1288           Pass  [10.3, 46.3]   Gianluigi Donnarumma\n",
       "1289           Pass  [24.4, 41.7]       Leonardo Bonucci\n",
       "1290           Pass  [24.1, 31.5]      Giorgio Chiellini\n",
       "1291           Pass  [31.2, 50.1]       Leonardo Bonucci\n",
       "1292           Pass  [34.3, 76.9]    Giovanni Di Lorenzo\n",
       "...             ...           ...                    ...\n",
       "4140       Pressure  [40.0, 73.5]            Kyle Walker\n",
       "4278          Block  [54.6, 28.9]              Luke Shaw\n",
       "4279          Block   [9.2, 51.8]            John Stones\n",
       "4421    Goal Keeper   [7.4, 48.6]   Gianluigi Donnarumma\n",
       "4618  Ball Recovery  [68.9, 36.8]  Federico Bernardeschi\n",
       "\n",
       "[62 rows x 3 columns]"
      ]
     },
     "execution_count": 75,
     "metadata": {},
     "output_type": "execute_result"
    }
   ],
   "source": [
    "df = poss_pre_plot.iloc[:-1,:]\n",
    "df"
   ]
  },
  {
   "cell_type": "code",
   "execution_count": 79,
   "id": "d421f051",
   "metadata": {},
   "outputs": [
    {
     "data": {
      "application/vnd.plotly.v1+json": {
       "config": {
        "plotlyServerURL": "https://plot.ly"
       },
       "data": [
        {
         "hovertemplate": "color=Italy<br>symbol=Pass<br>x=%{x}<br>y=%{y}<extra></extra>",
         "legendgroup": "Italy, Pass",
         "marker": {
          "color": "#636efa",
          "symbol": "circle"
         },
         "mode": "markers",
         "name": "Italy, Pass",
         "orientation": "v",
         "showlegend": true,
         "type": "scatter",
         "x": [
          10.3,
          24.4,
          24.1,
          31.2,
          34.3,
          63.2,
          62.7,
          69.5,
          62.7,
          57.5,
          64.7,
          68,
          75.5,
          64.4,
          58.1,
          65,
          65.8,
          89.8,
          110.9
         ],
         "xaxis": "x",
         "y": [
          46.3,
          41.7,
          31.5,
          50.1,
          76.9,
          52.1,
          32.8,
          10.6,
          28.6,
          48.3,
          30.9,
          8.9,
          7.2,
          4.9,
          43.5,
          65.8,
          33.7,
          10.9,
          24.9
         ],
         "yaxis": "y"
        },
        {
         "hovertemplate": "color=Italy<br>symbol=Ball Receipt*<br>x=%{x}<br>y=%{y}<extra></extra>",
         "legendgroup": "Italy, Ball Receipt*",
         "marker": {
          "color": "#636efa",
          "symbol": "diamond"
         },
         "mode": "markers",
         "name": "Italy, Ball Receipt*",
         "orientation": "v",
         "showlegend": true,
         "type": "scatter",
         "x": [
          24.1,
          24.1,
          23.8,
          34.3,
          64.1,
          74.6,
          68.6,
          60.1,
          57.5,
          60.7,
          68,
          77.8,
          64.4,
          54,
          63,
          62.1,
          87.6,
          110.1,
          110.9
         ],
         "xaxis": "x",
         "y": [
          45.8,
          31.5,
          43.2,
          76.9,
          53.1,
          40,
          7.4,
          23.7,
          48.3,
          36,
          8.9,
          3.4,
          4.9,
          28.3,
          63.8,
          39.1,
          4.6,
          27.5,
          36.8
         ],
         "yaxis": "y"
        },
        {
         "hovertemplate": "color=Italy<br>symbol=Carry<br>x=%{x}<br>y=%{y}<extra></extra>",
         "legendgroup": "Italy, Carry",
         "marker": {
          "color": "#636efa",
          "symbol": "square"
         },
         "mode": "markers",
         "name": "Italy, Carry",
         "orientation": "v",
         "showlegend": true,
         "type": "scatter",
         "x": [
          7.4,
          24.1,
          23.8,
          34.3,
          64.1,
          68.9,
          68.6,
          60.1,
          57.5,
          60.7,
          68,
          77.8,
          54,
          63,
          62.1,
          87.6,
          110.1
         ],
         "xaxis": "x",
         "y": [
          48.6,
          31.5,
          43.2,
          76.9,
          53.1,
          36.8,
          7.4,
          23.7,
          48.3,
          36,
          8.9,
          3.4,
          28.3,
          63.8,
          39.1,
          4.6,
          27.5
         ],
         "yaxis": "y"
        },
        {
         "hovertemplate": "color=Italy<br>symbol=Goal Keeper<br>x=%{x}<br>y=%{y}<extra></extra>",
         "legendgroup": "Italy, Goal Keeper",
         "marker": {
          "color": "#636efa",
          "symbol": "circle"
         },
         "mode": "markers",
         "name": "Italy, Goal Keeper",
         "orientation": "v",
         "showlegend": true,
         "type": "scatter",
         "x": [
          7.4
         ],
         "xaxis": "x",
         "y": [
          48.6
         ],
         "yaxis": "y"
        },
        {
         "hovertemplate": "color=Italy<br>symbol=Ball Recovery<br>x=%{x}<br>y=%{y}<extra></extra>",
         "legendgroup": "Italy, Ball Recovery",
         "marker": {
          "color": "#636efa",
          "symbol": "diamond"
         },
         "mode": "markers",
         "name": "Italy, Ball Recovery",
         "orientation": "v",
         "showlegend": true,
         "type": "scatter",
         "x": [
          68.9
         ],
         "xaxis": "x",
         "y": [
          36.8
         ],
         "yaxis": "y"
        },
        {
         "hovertemplate": "color=England<br>symbol=Pressure<br>x=%{x}<br>y=%{y}<extra></extra>",
         "legendgroup": "England, Pressure",
         "marker": {
          "color": "#EF553B",
          "symbol": "x"
         },
         "mode": "markers",
         "name": "England, Pressure",
         "orientation": "v",
         "showlegend": true,
         "type": "scatter",
         "x": [
          56,
          49.8,
          40
         ],
         "xaxis": "x",
         "y": [
          24.7,
          39.8,
          73.5
         ],
         "yaxis": "y"
        },
        {
         "hovertemplate": "color=England<br>symbol=Block<br>x=%{x}<br>y=%{y}<extra></extra>",
         "legendgroup": "England, Block",
         "marker": {
          "color": "#EF553B",
          "symbol": "cross"
         },
         "mode": "markers",
         "name": "England, Block",
         "orientation": "v",
         "showlegend": true,
         "type": "scatter",
         "x": [
          54.6,
          9.2
         ],
         "xaxis": "x",
         "y": [
          28.9,
          51.8
         ],
         "yaxis": "y"
        }
       ],
       "layout": {
        "height": 600,
        "legend": {
         "title": {
          "text": "color, symbol"
         },
         "tracegroupgap": 0
        },
        "margin": {
         "t": 60
        },
        "paper_bgcolor": "#112",
        "plot_bgcolor": "#112",
        "shapes": [
         {
          "layer": "below",
          "line": {
           "color": "LightGrey",
           "width": 3
          },
          "type": "rect",
          "x0": 0,
          "x1": 18,
          "xref": "x",
          "y0": 60,
          "y1": 20,
          "yref": "y"
         },
         {
          "layer": "below",
          "line": {
           "color": "LightGrey",
           "width": 3
          },
          "type": "rect",
          "x0": 0,
          "x1": 6,
          "xref": "x",
          "y0": 48,
          "y1": 32,
          "yref": "y"
         },
         {
          "layer": "below",
          "line": {
           "color": "LightGrey",
           "width": 3
          },
          "type": "rect",
          "x0": 102,
          "x1": 120,
          "xref": "x",
          "y0": 60,
          "y1": 20,
          "yref": "y"
         },
         {
          "layer": "below",
          "line": {
           "color": "LightGrey",
           "width": 3
          },
          "type": "rect",
          "x0": 114,
          "x1": 120,
          "xref": "x",
          "y0": 48,
          "y1": 32,
          "yref": "y"
         },
         {
          "layer": "below",
          "line": {
           "color": "LightGrey",
           "width": 3
          },
          "type": "line",
          "x0": 60,
          "x1": 60,
          "xref": "x",
          "y0": 80,
          "y1": 0,
          "yref": "y"
         },
         {
          "layer": "below",
          "line": {
           "color": "LightGrey",
           "width": 3
          },
          "type": "line",
          "x0": 0,
          "x1": 0,
          "xref": "x",
          "y0": 80,
          "y1": 0,
          "yref": "y"
         },
         {
          "layer": "below",
          "line": {
           "color": "LightGrey",
           "width": 3
          },
          "type": "line",
          "x0": 120,
          "x1": 120,
          "xref": "x",
          "y0": 80,
          "y1": 0,
          "yref": "y"
         },
         {
          "layer": "below",
          "line": {
           "color": "LightGrey",
           "width": 3
          },
          "type": "line",
          "x0": 0,
          "x1": 120,
          "xref": "x",
          "y0": 80,
          "y1": 80,
          "yref": "y"
         },
         {
          "layer": "below",
          "line": {
           "color": "LightGrey",
           "width": 3
          },
          "type": "line",
          "x0": 0,
          "x1": 120,
          "xref": "x",
          "y0": 0,
          "y1": 0,
          "yref": "y"
         },
         {
          "layer": "below",
          "line": {
           "color": "LightGrey",
           "width": 3
          },
          "type": "circle",
          "x0": 50,
          "x1": 70,
          "xref": "x",
          "y0": 50,
          "y1": 30,
          "yref": "y"
         }
        ],
        "template": {
         "data": {
          "bar": [
           {
            "error_x": {
             "color": "#2a3f5f"
            },
            "error_y": {
             "color": "#2a3f5f"
            },
            "marker": {
             "line": {
              "color": "#E5ECF6",
              "width": 0.5
             },
             "pattern": {
              "fillmode": "overlay",
              "size": 10,
              "solidity": 0.2
             }
            },
            "type": "bar"
           }
          ],
          "barpolar": [
           {
            "marker": {
             "line": {
              "color": "#E5ECF6",
              "width": 0.5
             },
             "pattern": {
              "fillmode": "overlay",
              "size": 10,
              "solidity": 0.2
             }
            },
            "type": "barpolar"
           }
          ],
          "carpet": [
           {
            "aaxis": {
             "endlinecolor": "#2a3f5f",
             "gridcolor": "white",
             "linecolor": "white",
             "minorgridcolor": "white",
             "startlinecolor": "#2a3f5f"
            },
            "baxis": {
             "endlinecolor": "#2a3f5f",
             "gridcolor": "white",
             "linecolor": "white",
             "minorgridcolor": "white",
             "startlinecolor": "#2a3f5f"
            },
            "type": "carpet"
           }
          ],
          "choropleth": [
           {
            "colorbar": {
             "outlinewidth": 0,
             "ticks": ""
            },
            "type": "choropleth"
           }
          ],
          "contour": [
           {
            "colorbar": {
             "outlinewidth": 0,
             "ticks": ""
            },
            "colorscale": [
             [
              0,
              "#0d0887"
             ],
             [
              0.1111111111111111,
              "#46039f"
             ],
             [
              0.2222222222222222,
              "#7201a8"
             ],
             [
              0.3333333333333333,
              "#9c179e"
             ],
             [
              0.4444444444444444,
              "#bd3786"
             ],
             [
              0.5555555555555556,
              "#d8576b"
             ],
             [
              0.6666666666666666,
              "#ed7953"
             ],
             [
              0.7777777777777778,
              "#fb9f3a"
             ],
             [
              0.8888888888888888,
              "#fdca26"
             ],
             [
              1,
              "#f0f921"
             ]
            ],
            "type": "contour"
           }
          ],
          "contourcarpet": [
           {
            "colorbar": {
             "outlinewidth": 0,
             "ticks": ""
            },
            "type": "contourcarpet"
           }
          ],
          "heatmap": [
           {
            "colorbar": {
             "outlinewidth": 0,
             "ticks": ""
            },
            "colorscale": [
             [
              0,
              "#0d0887"
             ],
             [
              0.1111111111111111,
              "#46039f"
             ],
             [
              0.2222222222222222,
              "#7201a8"
             ],
             [
              0.3333333333333333,
              "#9c179e"
             ],
             [
              0.4444444444444444,
              "#bd3786"
             ],
             [
              0.5555555555555556,
              "#d8576b"
             ],
             [
              0.6666666666666666,
              "#ed7953"
             ],
             [
              0.7777777777777778,
              "#fb9f3a"
             ],
             [
              0.8888888888888888,
              "#fdca26"
             ],
             [
              1,
              "#f0f921"
             ]
            ],
            "type": "heatmap"
           }
          ],
          "heatmapgl": [
           {
            "colorbar": {
             "outlinewidth": 0,
             "ticks": ""
            },
            "colorscale": [
             [
              0,
              "#0d0887"
             ],
             [
              0.1111111111111111,
              "#46039f"
             ],
             [
              0.2222222222222222,
              "#7201a8"
             ],
             [
              0.3333333333333333,
              "#9c179e"
             ],
             [
              0.4444444444444444,
              "#bd3786"
             ],
             [
              0.5555555555555556,
              "#d8576b"
             ],
             [
              0.6666666666666666,
              "#ed7953"
             ],
             [
              0.7777777777777778,
              "#fb9f3a"
             ],
             [
              0.8888888888888888,
              "#fdca26"
             ],
             [
              1,
              "#f0f921"
             ]
            ],
            "type": "heatmapgl"
           }
          ],
          "histogram": [
           {
            "marker": {
             "pattern": {
              "fillmode": "overlay",
              "size": 10,
              "solidity": 0.2
             }
            },
            "type": "histogram"
           }
          ],
          "histogram2d": [
           {
            "colorbar": {
             "outlinewidth": 0,
             "ticks": ""
            },
            "colorscale": [
             [
              0,
              "#0d0887"
             ],
             [
              0.1111111111111111,
              "#46039f"
             ],
             [
              0.2222222222222222,
              "#7201a8"
             ],
             [
              0.3333333333333333,
              "#9c179e"
             ],
             [
              0.4444444444444444,
              "#bd3786"
             ],
             [
              0.5555555555555556,
              "#d8576b"
             ],
             [
              0.6666666666666666,
              "#ed7953"
             ],
             [
              0.7777777777777778,
              "#fb9f3a"
             ],
             [
              0.8888888888888888,
              "#fdca26"
             ],
             [
              1,
              "#f0f921"
             ]
            ],
            "type": "histogram2d"
           }
          ],
          "histogram2dcontour": [
           {
            "colorbar": {
             "outlinewidth": 0,
             "ticks": ""
            },
            "colorscale": [
             [
              0,
              "#0d0887"
             ],
             [
              0.1111111111111111,
              "#46039f"
             ],
             [
              0.2222222222222222,
              "#7201a8"
             ],
             [
              0.3333333333333333,
              "#9c179e"
             ],
             [
              0.4444444444444444,
              "#bd3786"
             ],
             [
              0.5555555555555556,
              "#d8576b"
             ],
             [
              0.6666666666666666,
              "#ed7953"
             ],
             [
              0.7777777777777778,
              "#fb9f3a"
             ],
             [
              0.8888888888888888,
              "#fdca26"
             ],
             [
              1,
              "#f0f921"
             ]
            ],
            "type": "histogram2dcontour"
           }
          ],
          "mesh3d": [
           {
            "colorbar": {
             "outlinewidth": 0,
             "ticks": ""
            },
            "type": "mesh3d"
           }
          ],
          "parcoords": [
           {
            "line": {
             "colorbar": {
              "outlinewidth": 0,
              "ticks": ""
             }
            },
            "type": "parcoords"
           }
          ],
          "pie": [
           {
            "automargin": true,
            "type": "pie"
           }
          ],
          "scatter": [
           {
            "marker": {
             "colorbar": {
              "outlinewidth": 0,
              "ticks": ""
             }
            },
            "type": "scatter"
           }
          ],
          "scatter3d": [
           {
            "line": {
             "colorbar": {
              "outlinewidth": 0,
              "ticks": ""
             }
            },
            "marker": {
             "colorbar": {
              "outlinewidth": 0,
              "ticks": ""
             }
            },
            "type": "scatter3d"
           }
          ],
          "scattercarpet": [
           {
            "marker": {
             "colorbar": {
              "outlinewidth": 0,
              "ticks": ""
             }
            },
            "type": "scattercarpet"
           }
          ],
          "scattergeo": [
           {
            "marker": {
             "colorbar": {
              "outlinewidth": 0,
              "ticks": ""
             }
            },
            "type": "scattergeo"
           }
          ],
          "scattergl": [
           {
            "marker": {
             "colorbar": {
              "outlinewidth": 0,
              "ticks": ""
             }
            },
            "type": "scattergl"
           }
          ],
          "scattermapbox": [
           {
            "marker": {
             "colorbar": {
              "outlinewidth": 0,
              "ticks": ""
             }
            },
            "type": "scattermapbox"
           }
          ],
          "scatterpolar": [
           {
            "marker": {
             "colorbar": {
              "outlinewidth": 0,
              "ticks": ""
             }
            },
            "type": "scatterpolar"
           }
          ],
          "scatterpolargl": [
           {
            "marker": {
             "colorbar": {
              "outlinewidth": 0,
              "ticks": ""
             }
            },
            "type": "scatterpolargl"
           }
          ],
          "scatterternary": [
           {
            "marker": {
             "colorbar": {
              "outlinewidth": 0,
              "ticks": ""
             }
            },
            "type": "scatterternary"
           }
          ],
          "surface": [
           {
            "colorbar": {
             "outlinewidth": 0,
             "ticks": ""
            },
            "colorscale": [
             [
              0,
              "#0d0887"
             ],
             [
              0.1111111111111111,
              "#46039f"
             ],
             [
              0.2222222222222222,
              "#7201a8"
             ],
             [
              0.3333333333333333,
              "#9c179e"
             ],
             [
              0.4444444444444444,
              "#bd3786"
             ],
             [
              0.5555555555555556,
              "#d8576b"
             ],
             [
              0.6666666666666666,
              "#ed7953"
             ],
             [
              0.7777777777777778,
              "#fb9f3a"
             ],
             [
              0.8888888888888888,
              "#fdca26"
             ],
             [
              1,
              "#f0f921"
             ]
            ],
            "type": "surface"
           }
          ],
          "table": [
           {
            "cells": {
             "fill": {
              "color": "#EBF0F8"
             },
             "line": {
              "color": "white"
             }
            },
            "header": {
             "fill": {
              "color": "#C8D4E3"
             },
             "line": {
              "color": "white"
             }
            },
            "type": "table"
           }
          ]
         },
         "layout": {
          "annotationdefaults": {
           "arrowcolor": "#2a3f5f",
           "arrowhead": 0,
           "arrowwidth": 1
          },
          "autotypenumbers": "strict",
          "coloraxis": {
           "colorbar": {
            "outlinewidth": 0,
            "ticks": ""
           }
          },
          "colorscale": {
           "diverging": [
            [
             0,
             "#8e0152"
            ],
            [
             0.1,
             "#c51b7d"
            ],
            [
             0.2,
             "#de77ae"
            ],
            [
             0.3,
             "#f1b6da"
            ],
            [
             0.4,
             "#fde0ef"
            ],
            [
             0.5,
             "#f7f7f7"
            ],
            [
             0.6,
             "#e6f5d0"
            ],
            [
             0.7,
             "#b8e186"
            ],
            [
             0.8,
             "#7fbc41"
            ],
            [
             0.9,
             "#4d9221"
            ],
            [
             1,
             "#276419"
            ]
           ],
           "sequential": [
            [
             0,
             "#0d0887"
            ],
            [
             0.1111111111111111,
             "#46039f"
            ],
            [
             0.2222222222222222,
             "#7201a8"
            ],
            [
             0.3333333333333333,
             "#9c179e"
            ],
            [
             0.4444444444444444,
             "#bd3786"
            ],
            [
             0.5555555555555556,
             "#d8576b"
            ],
            [
             0.6666666666666666,
             "#ed7953"
            ],
            [
             0.7777777777777778,
             "#fb9f3a"
            ],
            [
             0.8888888888888888,
             "#fdca26"
            ],
            [
             1,
             "#f0f921"
            ]
           ],
           "sequentialminus": [
            [
             0,
             "#0d0887"
            ],
            [
             0.1111111111111111,
             "#46039f"
            ],
            [
             0.2222222222222222,
             "#7201a8"
            ],
            [
             0.3333333333333333,
             "#9c179e"
            ],
            [
             0.4444444444444444,
             "#bd3786"
            ],
            [
             0.5555555555555556,
             "#d8576b"
            ],
            [
             0.6666666666666666,
             "#ed7953"
            ],
            [
             0.7777777777777778,
             "#fb9f3a"
            ],
            [
             0.8888888888888888,
             "#fdca26"
            ],
            [
             1,
             "#f0f921"
            ]
           ]
          },
          "colorway": [
           "#636efa",
           "#EF553B",
           "#00cc96",
           "#ab63fa",
           "#FFA15A",
           "#19d3f3",
           "#FF6692",
           "#B6E880",
           "#FF97FF",
           "#FECB52"
          ],
          "font": {
           "color": "#2a3f5f"
          },
          "geo": {
           "bgcolor": "white",
           "lakecolor": "white",
           "landcolor": "#E5ECF6",
           "showlakes": true,
           "showland": true,
           "subunitcolor": "white"
          },
          "hoverlabel": {
           "align": "left"
          },
          "hovermode": "closest",
          "mapbox": {
           "style": "light"
          },
          "paper_bgcolor": "white",
          "plot_bgcolor": "#E5ECF6",
          "polar": {
           "angularaxis": {
            "gridcolor": "white",
            "linecolor": "white",
            "ticks": ""
           },
           "bgcolor": "#E5ECF6",
           "radialaxis": {
            "gridcolor": "white",
            "linecolor": "white",
            "ticks": ""
           }
          },
          "scene": {
           "xaxis": {
            "backgroundcolor": "#E5ECF6",
            "gridcolor": "white",
            "gridwidth": 2,
            "linecolor": "white",
            "showbackground": true,
            "ticks": "",
            "zerolinecolor": "white"
           },
           "yaxis": {
            "backgroundcolor": "#E5ECF6",
            "gridcolor": "white",
            "gridwidth": 2,
            "linecolor": "white",
            "showbackground": true,
            "ticks": "",
            "zerolinecolor": "white"
           },
           "zaxis": {
            "backgroundcolor": "#E5ECF6",
            "gridcolor": "white",
            "gridwidth": 2,
            "linecolor": "white",
            "showbackground": true,
            "ticks": "",
            "zerolinecolor": "white"
           }
          },
          "shapedefaults": {
           "line": {
            "color": "#2a3f5f"
           }
          },
          "ternary": {
           "aaxis": {
            "gridcolor": "white",
            "linecolor": "white",
            "ticks": ""
           },
           "baxis": {
            "gridcolor": "white",
            "linecolor": "white",
            "ticks": ""
           },
           "bgcolor": "#E5ECF6",
           "caxis": {
            "gridcolor": "white",
            "linecolor": "white",
            "ticks": ""
           }
          },
          "title": {
           "x": 0.05
          },
          "xaxis": {
           "automargin": true,
           "gridcolor": "white",
           "linecolor": "white",
           "ticks": "",
           "title": {
            "standoff": 15
           },
           "zerolinecolor": "white",
           "zerolinewidth": 2
          },
          "yaxis": {
           "automargin": true,
           "gridcolor": "white",
           "linecolor": "white",
           "ticks": "",
           "title": {
            "standoff": 15
           },
           "zerolinecolor": "white",
           "zerolinewidth": 2
          }
         }
        },
        "width": 700,
        "xaxis": {
         "anchor": "y",
         "domain": [
          0,
          1
         ],
         "range": [
          0,
          120
         ],
         "showgrid": false,
         "showticklabels": false,
         "title": {
          "text": "x"
         },
         "visible": false
        },
        "yaxis": {
         "anchor": "x",
         "domain": [
          0,
          1
         ],
         "range": [
          0,
          100
         ],
         "scaleanchor": "x",
         "scaleratio": 1,
         "showgrid": false,
         "showticklabels": false,
         "title": {
          "text": "y"
         },
         "visible": false
        }
       }
      },
      "text/html": [
       "<div>                            <div id=\"54050574-2bc8-4db7-bc8b-8377ff417bbf\" class=\"plotly-graph-div\" style=\"height:600px; width:700px;\"></div>            <script type=\"text/javascript\">                require([\"plotly\"], function(Plotly) {                    window.PLOTLYENV=window.PLOTLYENV || {};                                    if (document.getElementById(\"54050574-2bc8-4db7-bc8b-8377ff417bbf\")) {                    Plotly.newPlot(                        \"54050574-2bc8-4db7-bc8b-8377ff417bbf\",                        [{\"hovertemplate\":\"color=Italy<br>symbol=Pass<br>x=%{x}<br>y=%{y}<extra></extra>\",\"legendgroup\":\"Italy, Pass\",\"marker\":{\"color\":\"#636efa\",\"symbol\":\"circle\"},\"mode\":\"markers\",\"name\":\"Italy, Pass\",\"orientation\":\"v\",\"showlegend\":true,\"type\":\"scatter\",\"x\":[10.3,24.4,24.1,31.2,34.3,63.2,62.7,69.5,62.7,57.5,64.7,68.0,75.5,64.4,58.1,65.0,65.8,89.8,110.9],\"xaxis\":\"x\",\"y\":[46.3,41.7,31.5,50.1,76.9,52.1,32.8,10.6,28.6,48.3,30.9,8.9,7.2,4.9,43.5,65.8,33.7,10.9,24.9],\"yaxis\":\"y\"},{\"hovertemplate\":\"color=Italy<br>symbol=Ball Receipt*<br>x=%{x}<br>y=%{y}<extra></extra>\",\"legendgroup\":\"Italy, Ball Receipt*\",\"marker\":{\"color\":\"#636efa\",\"symbol\":\"diamond\"},\"mode\":\"markers\",\"name\":\"Italy, Ball Receipt*\",\"orientation\":\"v\",\"showlegend\":true,\"type\":\"scatter\",\"x\":[24.1,24.1,23.8,34.3,64.1,74.6,68.6,60.1,57.5,60.7,68.0,77.8,64.4,54.0,63.0,62.1,87.6,110.1,110.9],\"xaxis\":\"x\",\"y\":[45.8,31.5,43.2,76.9,53.1,40.0,7.4,23.7,48.3,36.0,8.9,3.4,4.9,28.3,63.8,39.1,4.6,27.5,36.8],\"yaxis\":\"y\"},{\"hovertemplate\":\"color=Italy<br>symbol=Carry<br>x=%{x}<br>y=%{y}<extra></extra>\",\"legendgroup\":\"Italy, Carry\",\"marker\":{\"color\":\"#636efa\",\"symbol\":\"square\"},\"mode\":\"markers\",\"name\":\"Italy, Carry\",\"orientation\":\"v\",\"showlegend\":true,\"type\":\"scatter\",\"x\":[7.4,24.1,23.8,34.3,64.1,68.9,68.6,60.1,57.5,60.7,68.0,77.8,54.0,63.0,62.1,87.6,110.1],\"xaxis\":\"x\",\"y\":[48.6,31.5,43.2,76.9,53.1,36.8,7.4,23.7,48.3,36.0,8.9,3.4,28.3,63.8,39.1,4.6,27.5],\"yaxis\":\"y\"},{\"hovertemplate\":\"color=Italy<br>symbol=Goal Keeper<br>x=%{x}<br>y=%{y}<extra></extra>\",\"legendgroup\":\"Italy, Goal Keeper\",\"marker\":{\"color\":\"#636efa\",\"symbol\":\"circle\"},\"mode\":\"markers\",\"name\":\"Italy, Goal Keeper\",\"orientation\":\"v\",\"showlegend\":true,\"type\":\"scatter\",\"x\":[7.4],\"xaxis\":\"x\",\"y\":[48.6],\"yaxis\":\"y\"},{\"hovertemplate\":\"color=Italy<br>symbol=Ball Recovery<br>x=%{x}<br>y=%{y}<extra></extra>\",\"legendgroup\":\"Italy, Ball Recovery\",\"marker\":{\"color\":\"#636efa\",\"symbol\":\"diamond\"},\"mode\":\"markers\",\"name\":\"Italy, Ball Recovery\",\"orientation\":\"v\",\"showlegend\":true,\"type\":\"scatter\",\"x\":[68.9],\"xaxis\":\"x\",\"y\":[36.8],\"yaxis\":\"y\"},{\"hovertemplate\":\"color=England<br>symbol=Pressure<br>x=%{x}<br>y=%{y}<extra></extra>\",\"legendgroup\":\"England, Pressure\",\"marker\":{\"color\":\"#EF553B\",\"symbol\":\"x\"},\"mode\":\"markers\",\"name\":\"England, Pressure\",\"orientation\":\"v\",\"showlegend\":true,\"type\":\"scatter\",\"x\":[56.0,49.8,40.0],\"xaxis\":\"x\",\"y\":[24.7,39.8,73.5],\"yaxis\":\"y\"},{\"hovertemplate\":\"color=England<br>symbol=Block<br>x=%{x}<br>y=%{y}<extra></extra>\",\"legendgroup\":\"England, Block\",\"marker\":{\"color\":\"#EF553B\",\"symbol\":\"cross\"},\"mode\":\"markers\",\"name\":\"England, Block\",\"orientation\":\"v\",\"showlegend\":true,\"type\":\"scatter\",\"x\":[54.6,9.2],\"xaxis\":\"x\",\"y\":[28.9,51.8],\"yaxis\":\"y\"}],                        {\"height\":600,\"legend\":{\"title\":{\"text\":\"color, symbol\"},\"tracegroupgap\":0},\"margin\":{\"t\":60},\"paper_bgcolor\":\"#112\",\"plot_bgcolor\":\"#112\",\"shapes\":[{\"layer\":\"below\",\"line\":{\"color\":\"LightGrey\",\"width\":3},\"type\":\"rect\",\"x0\":0,\"x1\":18,\"xref\":\"x\",\"y0\":60,\"y1\":20,\"yref\":\"y\"},{\"layer\":\"below\",\"line\":{\"color\":\"LightGrey\",\"width\":3},\"type\":\"rect\",\"x0\":0,\"x1\":6,\"xref\":\"x\",\"y0\":48,\"y1\":32,\"yref\":\"y\"},{\"layer\":\"below\",\"line\":{\"color\":\"LightGrey\",\"width\":3},\"type\":\"rect\",\"x0\":102,\"x1\":120,\"xref\":\"x\",\"y0\":60,\"y1\":20,\"yref\":\"y\"},{\"layer\":\"below\",\"line\":{\"color\":\"LightGrey\",\"width\":3},\"type\":\"rect\",\"x0\":114,\"x1\":120,\"xref\":\"x\",\"y0\":48,\"y1\":32,\"yref\":\"y\"},{\"layer\":\"below\",\"line\":{\"color\":\"LightGrey\",\"width\":3},\"type\":\"line\",\"x0\":60,\"x1\":60,\"xref\":\"x\",\"y0\":80,\"y1\":0,\"yref\":\"y\"},{\"layer\":\"below\",\"line\":{\"color\":\"LightGrey\",\"width\":3},\"type\":\"line\",\"x0\":0,\"x1\":0,\"xref\":\"x\",\"y0\":80,\"y1\":0,\"yref\":\"y\"},{\"layer\":\"below\",\"line\":{\"color\":\"LightGrey\",\"width\":3},\"type\":\"line\",\"x0\":120,\"x1\":120,\"xref\":\"x\",\"y0\":80,\"y1\":0,\"yref\":\"y\"},{\"layer\":\"below\",\"line\":{\"color\":\"LightGrey\",\"width\":3},\"type\":\"line\",\"x0\":0,\"x1\":120,\"xref\":\"x\",\"y0\":80,\"y1\":80,\"yref\":\"y\"},{\"layer\":\"below\",\"line\":{\"color\":\"LightGrey\",\"width\":3},\"type\":\"line\",\"x0\":0,\"x1\":120,\"xref\":\"x\",\"y0\":0,\"y1\":0,\"yref\":\"y\"},{\"layer\":\"below\",\"line\":{\"color\":\"LightGrey\",\"width\":3},\"type\":\"circle\",\"x0\":50,\"x1\":70,\"xref\":\"x\",\"y0\":50,\"y1\":30,\"yref\":\"y\"}],\"template\":{\"data\":{\"bar\":[{\"error_x\":{\"color\":\"#2a3f5f\"},\"error_y\":{\"color\":\"#2a3f5f\"},\"marker\":{\"line\":{\"color\":\"#E5ECF6\",\"width\":0.5},\"pattern\":{\"fillmode\":\"overlay\",\"size\":10,\"solidity\":0.2}},\"type\":\"bar\"}],\"barpolar\":[{\"marker\":{\"line\":{\"color\":\"#E5ECF6\",\"width\":0.5},\"pattern\":{\"fillmode\":\"overlay\",\"size\":10,\"solidity\":0.2}},\"type\":\"barpolar\"}],\"carpet\":[{\"aaxis\":{\"endlinecolor\":\"#2a3f5f\",\"gridcolor\":\"white\",\"linecolor\":\"white\",\"minorgridcolor\":\"white\",\"startlinecolor\":\"#2a3f5f\"},\"baxis\":{\"endlinecolor\":\"#2a3f5f\",\"gridcolor\":\"white\",\"linecolor\":\"white\",\"minorgridcolor\":\"white\",\"startlinecolor\":\"#2a3f5f\"},\"type\":\"carpet\"}],\"choropleth\":[{\"colorbar\":{\"outlinewidth\":0,\"ticks\":\"\"},\"type\":\"choropleth\"}],\"contour\":[{\"colorbar\":{\"outlinewidth\":0,\"ticks\":\"\"},\"colorscale\":[[0.0,\"#0d0887\"],[0.1111111111111111,\"#46039f\"],[0.2222222222222222,\"#7201a8\"],[0.3333333333333333,\"#9c179e\"],[0.4444444444444444,\"#bd3786\"],[0.5555555555555556,\"#d8576b\"],[0.6666666666666666,\"#ed7953\"],[0.7777777777777778,\"#fb9f3a\"],[0.8888888888888888,\"#fdca26\"],[1.0,\"#f0f921\"]],\"type\":\"contour\"}],\"contourcarpet\":[{\"colorbar\":{\"outlinewidth\":0,\"ticks\":\"\"},\"type\":\"contourcarpet\"}],\"heatmap\":[{\"colorbar\":{\"outlinewidth\":0,\"ticks\":\"\"},\"colorscale\":[[0.0,\"#0d0887\"],[0.1111111111111111,\"#46039f\"],[0.2222222222222222,\"#7201a8\"],[0.3333333333333333,\"#9c179e\"],[0.4444444444444444,\"#bd3786\"],[0.5555555555555556,\"#d8576b\"],[0.6666666666666666,\"#ed7953\"],[0.7777777777777778,\"#fb9f3a\"],[0.8888888888888888,\"#fdca26\"],[1.0,\"#f0f921\"]],\"type\":\"heatmap\"}],\"heatmapgl\":[{\"colorbar\":{\"outlinewidth\":0,\"ticks\":\"\"},\"colorscale\":[[0.0,\"#0d0887\"],[0.1111111111111111,\"#46039f\"],[0.2222222222222222,\"#7201a8\"],[0.3333333333333333,\"#9c179e\"],[0.4444444444444444,\"#bd3786\"],[0.5555555555555556,\"#d8576b\"],[0.6666666666666666,\"#ed7953\"],[0.7777777777777778,\"#fb9f3a\"],[0.8888888888888888,\"#fdca26\"],[1.0,\"#f0f921\"]],\"type\":\"heatmapgl\"}],\"histogram\":[{\"marker\":{\"pattern\":{\"fillmode\":\"overlay\",\"size\":10,\"solidity\":0.2}},\"type\":\"histogram\"}],\"histogram2d\":[{\"colorbar\":{\"outlinewidth\":0,\"ticks\":\"\"},\"colorscale\":[[0.0,\"#0d0887\"],[0.1111111111111111,\"#46039f\"],[0.2222222222222222,\"#7201a8\"],[0.3333333333333333,\"#9c179e\"],[0.4444444444444444,\"#bd3786\"],[0.5555555555555556,\"#d8576b\"],[0.6666666666666666,\"#ed7953\"],[0.7777777777777778,\"#fb9f3a\"],[0.8888888888888888,\"#fdca26\"],[1.0,\"#f0f921\"]],\"type\":\"histogram2d\"}],\"histogram2dcontour\":[{\"colorbar\":{\"outlinewidth\":0,\"ticks\":\"\"},\"colorscale\":[[0.0,\"#0d0887\"],[0.1111111111111111,\"#46039f\"],[0.2222222222222222,\"#7201a8\"],[0.3333333333333333,\"#9c179e\"],[0.4444444444444444,\"#bd3786\"],[0.5555555555555556,\"#d8576b\"],[0.6666666666666666,\"#ed7953\"],[0.7777777777777778,\"#fb9f3a\"],[0.8888888888888888,\"#fdca26\"],[1.0,\"#f0f921\"]],\"type\":\"histogram2dcontour\"}],\"mesh3d\":[{\"colorbar\":{\"outlinewidth\":0,\"ticks\":\"\"},\"type\":\"mesh3d\"}],\"parcoords\":[{\"line\":{\"colorbar\":{\"outlinewidth\":0,\"ticks\":\"\"}},\"type\":\"parcoords\"}],\"pie\":[{\"automargin\":true,\"type\":\"pie\"}],\"scatter\":[{\"marker\":{\"colorbar\":{\"outlinewidth\":0,\"ticks\":\"\"}},\"type\":\"scatter\"}],\"scatter3d\":[{\"line\":{\"colorbar\":{\"outlinewidth\":0,\"ticks\":\"\"}},\"marker\":{\"colorbar\":{\"outlinewidth\":0,\"ticks\":\"\"}},\"type\":\"scatter3d\"}],\"scattercarpet\":[{\"marker\":{\"colorbar\":{\"outlinewidth\":0,\"ticks\":\"\"}},\"type\":\"scattercarpet\"}],\"scattergeo\":[{\"marker\":{\"colorbar\":{\"outlinewidth\":0,\"ticks\":\"\"}},\"type\":\"scattergeo\"}],\"scattergl\":[{\"marker\":{\"colorbar\":{\"outlinewidth\":0,\"ticks\":\"\"}},\"type\":\"scattergl\"}],\"scattermapbox\":[{\"marker\":{\"colorbar\":{\"outlinewidth\":0,\"ticks\":\"\"}},\"type\":\"scattermapbox\"}],\"scatterpolar\":[{\"marker\":{\"colorbar\":{\"outlinewidth\":0,\"ticks\":\"\"}},\"type\":\"scatterpolar\"}],\"scatterpolargl\":[{\"marker\":{\"colorbar\":{\"outlinewidth\":0,\"ticks\":\"\"}},\"type\":\"scatterpolargl\"}],\"scatterternary\":[{\"marker\":{\"colorbar\":{\"outlinewidth\":0,\"ticks\":\"\"}},\"type\":\"scatterternary\"}],\"surface\":[{\"colorbar\":{\"outlinewidth\":0,\"ticks\":\"\"},\"colorscale\":[[0.0,\"#0d0887\"],[0.1111111111111111,\"#46039f\"],[0.2222222222222222,\"#7201a8\"],[0.3333333333333333,\"#9c179e\"],[0.4444444444444444,\"#bd3786\"],[0.5555555555555556,\"#d8576b\"],[0.6666666666666666,\"#ed7953\"],[0.7777777777777778,\"#fb9f3a\"],[0.8888888888888888,\"#fdca26\"],[1.0,\"#f0f921\"]],\"type\":\"surface\"}],\"table\":[{\"cells\":{\"fill\":{\"color\":\"#EBF0F8\"},\"line\":{\"color\":\"white\"}},\"header\":{\"fill\":{\"color\":\"#C8D4E3\"},\"line\":{\"color\":\"white\"}},\"type\":\"table\"}]},\"layout\":{\"annotationdefaults\":{\"arrowcolor\":\"#2a3f5f\",\"arrowhead\":0,\"arrowwidth\":1},\"autotypenumbers\":\"strict\",\"coloraxis\":{\"colorbar\":{\"outlinewidth\":0,\"ticks\":\"\"}},\"colorscale\":{\"diverging\":[[0,\"#8e0152\"],[0.1,\"#c51b7d\"],[0.2,\"#de77ae\"],[0.3,\"#f1b6da\"],[0.4,\"#fde0ef\"],[0.5,\"#f7f7f7\"],[0.6,\"#e6f5d0\"],[0.7,\"#b8e186\"],[0.8,\"#7fbc41\"],[0.9,\"#4d9221\"],[1,\"#276419\"]],\"sequential\":[[0.0,\"#0d0887\"],[0.1111111111111111,\"#46039f\"],[0.2222222222222222,\"#7201a8\"],[0.3333333333333333,\"#9c179e\"],[0.4444444444444444,\"#bd3786\"],[0.5555555555555556,\"#d8576b\"],[0.6666666666666666,\"#ed7953\"],[0.7777777777777778,\"#fb9f3a\"],[0.8888888888888888,\"#fdca26\"],[1.0,\"#f0f921\"]],\"sequentialminus\":[[0.0,\"#0d0887\"],[0.1111111111111111,\"#46039f\"],[0.2222222222222222,\"#7201a8\"],[0.3333333333333333,\"#9c179e\"],[0.4444444444444444,\"#bd3786\"],[0.5555555555555556,\"#d8576b\"],[0.6666666666666666,\"#ed7953\"],[0.7777777777777778,\"#fb9f3a\"],[0.8888888888888888,\"#fdca26\"],[1.0,\"#f0f921\"]]},\"colorway\":[\"#636efa\",\"#EF553B\",\"#00cc96\",\"#ab63fa\",\"#FFA15A\",\"#19d3f3\",\"#FF6692\",\"#B6E880\",\"#FF97FF\",\"#FECB52\"],\"font\":{\"color\":\"#2a3f5f\"},\"geo\":{\"bgcolor\":\"white\",\"lakecolor\":\"white\",\"landcolor\":\"#E5ECF6\",\"showlakes\":true,\"showland\":true,\"subunitcolor\":\"white\"},\"hoverlabel\":{\"align\":\"left\"},\"hovermode\":\"closest\",\"mapbox\":{\"style\":\"light\"},\"paper_bgcolor\":\"white\",\"plot_bgcolor\":\"#E5ECF6\",\"polar\":{\"angularaxis\":{\"gridcolor\":\"white\",\"linecolor\":\"white\",\"ticks\":\"\"},\"bgcolor\":\"#E5ECF6\",\"radialaxis\":{\"gridcolor\":\"white\",\"linecolor\":\"white\",\"ticks\":\"\"}},\"scene\":{\"xaxis\":{\"backgroundcolor\":\"#E5ECF6\",\"gridcolor\":\"white\",\"gridwidth\":2,\"linecolor\":\"white\",\"showbackground\":true,\"ticks\":\"\",\"zerolinecolor\":\"white\"},\"yaxis\":{\"backgroundcolor\":\"#E5ECF6\",\"gridcolor\":\"white\",\"gridwidth\":2,\"linecolor\":\"white\",\"showbackground\":true,\"ticks\":\"\",\"zerolinecolor\":\"white\"},\"zaxis\":{\"backgroundcolor\":\"#E5ECF6\",\"gridcolor\":\"white\",\"gridwidth\":2,\"linecolor\":\"white\",\"showbackground\":true,\"ticks\":\"\",\"zerolinecolor\":\"white\"}},\"shapedefaults\":{\"line\":{\"color\":\"#2a3f5f\"}},\"ternary\":{\"aaxis\":{\"gridcolor\":\"white\",\"linecolor\":\"white\",\"ticks\":\"\"},\"baxis\":{\"gridcolor\":\"white\",\"linecolor\":\"white\",\"ticks\":\"\"},\"bgcolor\":\"#E5ECF6\",\"caxis\":{\"gridcolor\":\"white\",\"linecolor\":\"white\",\"ticks\":\"\"}},\"title\":{\"x\":0.05},\"xaxis\":{\"automargin\":true,\"gridcolor\":\"white\",\"linecolor\":\"white\",\"ticks\":\"\",\"title\":{\"standoff\":15},\"zerolinecolor\":\"white\",\"zerolinewidth\":2},\"yaxis\":{\"automargin\":true,\"gridcolor\":\"white\",\"linecolor\":\"white\",\"ticks\":\"\",\"title\":{\"standoff\":15},\"zerolinecolor\":\"white\",\"zerolinewidth\":2}}},\"width\":700,\"xaxis\":{\"anchor\":\"y\",\"domain\":[0.0,1.0],\"range\":[0,120],\"showgrid\":false,\"showticklabels\":false,\"title\":{\"text\":\"x\"},\"visible\":false},\"yaxis\":{\"anchor\":\"x\",\"domain\":[0.0,1.0],\"range\":[0,100],\"scaleanchor\":\"x\",\"scaleratio\":1,\"showgrid\":false,\"showticklabels\":false,\"title\":{\"text\":\"y\"},\"visible\":false}},                        {\"responsive\": true}                    ).then(function(){\n",
       "                            \n",
       "var gd = document.getElementById('54050574-2bc8-4db7-bc8b-8377ff417bbf');\n",
       "var x = new MutationObserver(function (mutations, observer) {{\n",
       "        var display = window.getComputedStyle(gd).display;\n",
       "        if (!display || display === 'none') {{\n",
       "            console.log([gd, 'removed!']);\n",
       "            Plotly.purge(gd);\n",
       "            observer.disconnect();\n",
       "        }}\n",
       "}});\n",
       "\n",
       "// Listen for the removal of the full notebook cells\n",
       "var notebookContainer = gd.closest('#notebook-container');\n",
       "if (notebookContainer) {{\n",
       "    x.observe(notebookContainer, {childList: true});\n",
       "}}\n",
       "\n",
       "// Listen for the clearing of the current output cell\n",
       "var outputEl = gd.closest('.output');\n",
       "if (outputEl) {{\n",
       "    x.observe(outputEl, {childList: true});\n",
       "}}\n",
       "\n",
       "                        })                };                });            </script>        </div>"
      ]
     },
     "metadata": {},
     "output_type": "display_data"
    }
   ],
   "source": [
    "df = poss_pre_plot.iloc[:-1,:]\n",
    "\n",
    "\n",
    "x = [loc[0] for loc in df['location'].values]\n",
    "y = [loc[1] for loc in df['location'].values]\n",
    "pos_symbol = df['type'].values\n",
    "pos_team = df['team'].values\n",
    "\n",
    "\n",
    "fig = px.scatter(x=x, y=y, symbol=pos_symbol, color=pos_team)\n",
    "fig = socly.draw_pitch_lines(fig)\n",
    "fig.show()"
   ]
  },
  {
   "cell_type": "code",
   "execution_count": null,
   "id": "a5453368",
   "metadata": {},
   "outputs": [],
   "source": []
  },
  {
   "cell_type": "code",
   "execution_count": null,
   "id": "0992879a",
   "metadata": {},
   "outputs": [],
   "source": []
  }
 ],
 "metadata": {
  "kernelspec": {
   "display_name": "Python 3",
   "language": "python",
   "name": "python3"
  },
  "language_info": {
   "codemirror_mode": {
    "name": "ipython",
    "version": 3
   },
   "file_extension": ".py",
   "mimetype": "text/x-python",
   "name": "python",
   "nbconvert_exporter": "python",
   "pygments_lexer": "ipython3",
   "version": "3.8.8"
  },
  "varInspector": {
   "cols": {
    "lenName": 16,
    "lenType": 16,
    "lenVar": 40
   },
   "kernels_config": {
    "python": {
     "delete_cmd_postfix": "",
     "delete_cmd_prefix": "del ",
     "library": "var_list.py",
     "varRefreshCmd": "print(var_dic_list())"
    },
    "r": {
     "delete_cmd_postfix": ") ",
     "delete_cmd_prefix": "rm(",
     "library": "var_list.r",
     "varRefreshCmd": "cat(var_dic_list()) "
    }
   },
   "types_to_exclude": [
    "module",
    "function",
    "builtin_function_or_method",
    "instance",
    "_Feature"
   ],
   "window_display": false
  }
 },
 "nbformat": 4,
 "nbformat_minor": 5
}
